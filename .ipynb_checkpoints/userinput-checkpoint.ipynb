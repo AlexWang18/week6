{
 "cells": [
  {
   "cell_type": "markdown",
   "metadata": {},
   "source": [
    "### 9/23 AlexWang18 First Code for Something"
   ]
  },
  {
   "cell_type": "code",
   "execution_count": 11,
   "metadata": {},
   "outputs": [
    {
     "name": "stdin",
     "output_type": "stream",
     "text": [
      "What is your name? \n",
      " Alex\n",
      "Enter a time in the format HH:MM: \n",
      " 12:12\n"
     ]
    },
    {
     "name": "stdout",
     "output_type": "stream",
     "text": [
      "<class 'str'>\n"
     ]
    },
    {
     "name": "stdin",
     "output_type": "stream",
     "text": [
      "What is the current time zone? Choose from EST, CST, PST, or UTC. \n",
      " est\n"
     ]
    },
    {
     "name": "stdout",
     "output_type": "stream",
     "text": [
      "Hi Alex!\n",
      "The current time is 12:12 in the EST time zone.\n"
     ]
    },
    {
     "name": "stdin",
     "output_type": "stream",
     "text": [
      "What time zone do you want to convert to? cst\n"
     ]
    },
    {
     "name": "stdout",
     "output_type": "stream",
     "text": [
      "\n"
     ]
    }
   ],
   "source": [
    "from datetime import time\n",
    "\n",
    "def displayName(user):\n",
    "    print(\"Hi \" + user + \"!\")  \n",
    "\n",
    "def statement(x,y):\n",
    "    displayName(name)\n",
    "    print(\"The current time is\", time,\"in the \" + currentTimeZone + \" time zone.\")\n",
    "def convert(v,z,e):\n",
    "    pass\n",
    "    \n",
    "\n",
    "name = str(input(\"What is your name? \\n\"))\n",
    "\n",
    "\n",
    "time = input(\"Enter a time in the format HH:MM: \\n\")\n",
    "h, m = map(int, time.split(':'))\n",
    "print(type(time))\n",
    "acceptedZones = [\"EST\", \"CST\", \"PST\", \"UTC\"]\n",
    "\n",
    "\n",
    "currentTimeZone = input(\"What is the current time zone? Choose from EST, CST, PST, or UTC. \\n\").upper()\n",
    "\n",
    "if currentTimeZone in acceptedZones:\n",
    "    statement(time,currentTimeZone)\n",
    "else:\n",
    "    print(\"Enter a valid time zone please!\")\n",
    "\n",
    "choiceTimeZone = input(\"What time zone do you want to convert to?\").upper()\n",
    "\n",
    "if choiceTimeZone in acceptedZones and choiceTimeZone != currentTimeZone:\n",
    "    print()\n",
    "    \n",
    "\n",
    "\n",
    "\n"
   ]
  },
  {
   "cell_type": "code",
   "execution_count": null,
   "metadata": {},
   "outputs": [],
   "source": []
  },
  {
   "cell_type": "code",
   "execution_count": null,
   "metadata": {},
   "outputs": [],
   "source": []
  }
 ],
 "metadata": {
  "kernelspec": {
   "display_name": "Python 3",
   "language": "python",
   "name": "python3"
  },
  "language_info": {
   "codemirror_mode": {
    "name": "ipython",
    "version": 3
   },
   "file_extension": ".py",
   "mimetype": "text/x-python",
   "name": "python",
   "nbconvert_exporter": "python",
   "pygments_lexer": "ipython3",
   "version": "3.8.3"
  }
 },
 "nbformat": 4,
 "nbformat_minor": 4
}
