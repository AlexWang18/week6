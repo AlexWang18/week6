{
 "cells": [
  {
   "cell_type": "markdown",
   "metadata": {},
   "source": [
    "### 9/23 AlexWang18 First Code for Something"
   ]
  },
  {
   "cell_type": "code",
   "execution_count": null,
   "metadata": {},
   "outputs": [],
   "source": [
    "def coolfunction(name):\n",
    "    print(\"Hi\", name)\n",
    "\n",
    "name = input(\"What is your name?\")\n",
    "name = str(name)\n",
    "something = input(\"What day is it?\")\n",
    "try:\n",
    "    something = int(something)\n",
    "except:\n",
    "    try:\n",
    "        something = float(something)\n",
    "    except:\n",
    "        something = str(something)\n",
    "//what we doing\n",
    "coolfunction(name)"
   ]
  },
  {
   "cell_type": "code",
   "execution_count": null,
   "metadata": {},
   "outputs": [],
   "source": []
  }
 ],
 "metadata": {
  "kernelspec": {
   "display_name": "Python 3",
   "language": "python",
   "name": "python3"
  },
  "language_info": {
   "codemirror_mode": {
    "name": "ipython",
    "version": 3
   },
   "file_extension": ".py",
   "mimetype": "text/x-python",
   "name": "python",
   "nbconvert_exporter": "python",
   "pygments_lexer": "ipython3",
   "version": "3.8.3"
  }
 },
 "nbformat": 4,
 "nbformat_minor": 4
}
